{
 "cells": [
  {
   "cell_type": "code",
   "execution_count": 8,
   "id": "cf72835f-f698-437c-b6f4-bcaf13618262",
   "metadata": {
    "scrolled": true,
    "tags": []
   },
   "outputs": [
    {
     "name": "stdout",
     "output_type": "stream",
     "text": [
      "25/07/2024 14:21:35\n",
      "('2023-2024', '11/Serie-A-Stats') \n",
      "\n",
      "https://fbref.com/en/comps/11/Serie-A-Stats \n",
      "\n",
      "<Response [200]>\n",
      "['https://fbref.com/en/squads/d609edc0/2023-2024/Internazionale-Stats', 'https://fbref.com/en/squads/dc56fe14/2023-2024/Milan-Stats', 'https://fbref.com/en/squads/e0652b02/2023-2024/Juventus-Stats', 'https://fbref.com/en/squads/922493f3/2023-2024/Atalanta-Stats', 'https://fbref.com/en/squads/1d8099f8/2023-2024/Bologna-Stats', 'https://fbref.com/en/squads/cf74a709/2023-2024/Roma-Stats', 'https://fbref.com/en/squads/7213da33/2023-2024/Lazio-Stats', 'https://fbref.com/en/squads/421387cf/2023-2024/Fiorentina-Stats', 'https://fbref.com/en/squads/105360fe/2023-2024/Torino-Stats', 'https://fbref.com/en/squads/d48ad4ff/2023-2024/Napoli-Stats', 'https://fbref.com/en/squads/658bf2de/2023-2024/Genoa-Stats', 'https://fbref.com/en/squads/21680aa4/2023-2024/Monza-Stats', 'https://fbref.com/en/squads/0e72edf2/2023-2024/Hellas-Verona-Stats', 'https://fbref.com/en/squads/ffcbe334/2023-2024/Lecce-Stats', 'https://fbref.com/en/squads/04eea015/2023-2024/Udinese-Stats', 'https://fbref.com/en/squads/c4260e09/2023-2024/Cagliari-Stats', 'https://fbref.com/en/squads/a3d88bd8/2023-2024/Empoli-Stats', 'https://fbref.com/en/squads/6a7ad59d/2023-2024/Frosinone-Stats', 'https://fbref.com/en/squads/e2befd26/2023-2024/Sassuolo-Stats', 'https://fbref.com/en/squads/c5577084/2023-2024/Salernitana-Stats']\n",
      "Waiting 10 seconds...\n",
      "https://fbref.com/en/squads/d609edc0/2023-2024/Internazionale-Stats\n",
      "https://fbref.com/en/squads/d609edc0/2023-2024/Internazionale-Stats\n",
      "https://fbref.com/en/squads/dc56fe14/2023-2024/Milan-Stats\n",
      "https://fbref.com/en/squads/dc56fe14/2023-2024/Milan-Stats\n",
      "https://fbref.com/en/squads/e0652b02/2023-2024/Juventus-Stats\n",
      "https://fbref.com/en/squads/e0652b02/2023-2024/Juventus-Stats\n",
      "https://fbref.com/en/squads/922493f3/2023-2024/Atalanta-Stats\n",
      "https://fbref.com/en/squads/922493f3/2023-2024/Atalanta-Stats\n",
      "https://fbref.com/en/squads/1d8099f8/2023-2024/Bologna-Stats\n",
      "https://fbref.com/en/squads/1d8099f8/2023-2024/Bologna-Stats\n",
      "https://fbref.com/en/squads/cf74a709/2023-2024/Roma-Stats\n",
      "https://fbref.com/en/squads/cf74a709/2023-2024/Roma-Stats\n",
      "https://fbref.com/en/squads/7213da33/2023-2024/Lazio-Stats\n",
      "https://fbref.com/en/squads/7213da33/2023-2024/Lazio-Stats\n",
      "https://fbref.com/en/squads/421387cf/2023-2024/Fiorentina-Stats\n",
      "https://fbref.com/en/squads/421387cf/2023-2024/Fiorentina-Stats\n",
      "https://fbref.com/en/squads/105360fe/2023-2024/Torino-Stats\n",
      "https://fbref.com/en/squads/105360fe/2023-2024/Torino-Stats\n",
      "https://fbref.com/en/squads/d48ad4ff/2023-2024/Napoli-Stats\n",
      "https://fbref.com/en/squads/d48ad4ff/2023-2024/Napoli-Stats\n",
      "https://fbref.com/en/squads/658bf2de/2023-2024/Genoa-Stats\n",
      "https://fbref.com/en/squads/658bf2de/2023-2024/Genoa-Stats\n",
      "https://fbref.com/en/squads/21680aa4/2023-2024/Monza-Stats\n",
      "https://fbref.com/en/squads/21680aa4/2023-2024/Monza-Stats\n",
      "https://fbref.com/en/squads/0e72edf2/2023-2024/Hellas-Verona-Stats\n",
      "https://fbref.com/en/squads/0e72edf2/2023-2024/Hellas-Verona-Stats\n",
      "https://fbref.com/en/squads/ffcbe334/2023-2024/Lecce-Stats\n",
      "https://fbref.com/en/squads/ffcbe334/2023-2024/Lecce-Stats\n",
      "https://fbref.com/en/squads/04eea015/2023-2024/Udinese-Stats\n",
      "https://fbref.com/en/squads/04eea015/2023-2024/Udinese-Stats\n",
      "https://fbref.com/en/squads/c4260e09/2023-2024/Cagliari-Stats\n",
      "https://fbref.com/en/squads/c4260e09/2023-2024/Cagliari-Stats\n",
      "https://fbref.com/en/squads/a3d88bd8/2023-2024/Empoli-Stats\n",
      "https://fbref.com/en/squads/a3d88bd8/2023-2024/Empoli-Stats\n",
      "https://fbref.com/en/squads/6a7ad59d/2023-2024/Frosinone-Stats\n",
      "https://fbref.com/en/squads/6a7ad59d/2023-2024/Frosinone-Stats\n",
      "https://fbref.com/en/squads/e2befd26/2023-2024/Sassuolo-Stats\n",
      "https://fbref.com/en/squads/e2befd26/2023-2024/Sassuolo-Stats\n",
      "https://fbref.com/en/squads/c5577084/2023-2024/Salernitana-Stats\n",
      "https://fbref.com/en/squads/c5577084/2023-2024/Salernitana-Stats\n"
     ]
    }
   ],
   "source": [
    "import requests\n",
    "from bs4 import BeautifulSoup\n",
    "import pandas as pd, numpy as np\n",
    "import html5lib\n",
    "import time\n",
    "import pickle\n",
    "pd.set_option(\"display.max_columns\", None)\n",
    "pd.set_option(\"display.max_rows\", None)\n",
    "pd.set_option(\"display.precision\", 2)\n",
    "# pd.set_option(\"display.freeze_panes\", 1)\n",
    "from datetime import datetime\n",
    "now = datetime.now()\n",
    "print(now.strftime('%d/%m/%Y %H:%M:%S'))\n",
    "import utilities\n",
    "from utilities import estrai_ultime_due_cifre\n",
    "from utilities import get_final_links\n",
    "\n",
    "# standings_url = \"https://fbref.com/en/comps/11/Serie-A-Stats\"\n",
    "# standings_url = f\"https://fbref.com/en/comps/{division}\"\n",
    "\n",
    "def rename_cols(topic_kpi , word : str):\n",
    "    return [word + i if not i.lower() in ('date', 'opponent') else i for i in topic_kpi]\n",
    "\n",
    "season = [ '2023-2024' ]  # '2022-2023' '2023-2024'\n",
    "division = [ '11/Serie-A-Stats'  ] #  ,'12/La-Liga-Stats' , '9/Premier-League-Stats'\n",
    "final_links = []\n",
    "seconds = 10 # parametro per il time sleep (thirty pages in less than a minute)\n",
    "\n",
    "all_matches = pd.DataFrame()\n",
    "shoot_kpi = [\"Date\", \"Opponent\", \"Sh\", \"SoT\", \"Dist\", \"FK\", \"PK\", \"PKatt\"]\n",
    "# kpi = []\n",
    "poss_kpi = ['Date' ,\"Opponent\",  'Touches', 'Def Pen', 'Def 3rd', 'Mid 3rd','Att 3rd', 'Att Pen', 'Live',\n",
    "            'Att', 'Succ', 'Succ%', 'Tkld', 'Tkld%','Carries', 'TotDist', 'PrgDist', 'PrgC', \n",
    "            '1/3', 'CPA', 'Mis', 'Dis','Rec', 'PrgR']\n",
    "pass_kpi = ['Date' , \"Opponent\", 'Total_Cmp', 'Total_Att', 'Total_Cmp%', 'Total_TotDist', 'Total_PrgDist', \n",
    "                 'Short_Cmp', 'Short_Att', 'Short_Cmp%',\n",
    "                 'Medium_Cmp', 'Medium_Att', 'Medium_Cmp%', \n",
    "                 'Long_Cmp', 'Long_Att', 'Long_Cmp%', \n",
    "                 'Ast', 'xAG', 'xA', 'KP', '1/3', 'PPA', 'CrsPA', 'PrgP']\n",
    "\n",
    "# for year in years:\n",
    "for stagione in season:\n",
    "    for campionato in division:\n",
    "\n",
    "        print((stagione , campionato) , '\\n' )\n",
    "        standings_url = f\"https://fbref.com/en/comps/{campionato}\"\n",
    "        print(standings_url , '\\n')\n",
    "        data = requests.get(standings_url )\n",
    "        soup = BeautifulSoup(data.text , features = \"lxml\")\n",
    "        print(data)\n",
    "        standings_table = soup.select('table.stats_table')[0]\n",
    "        #dal contenuto isolato su stats_table andiamo ad estrarre i link che contengono i dati di kpi per singola partita (i dati sono presenti a bh)\n",
    "        links = [ l.get(\"href\") for l in standings_table.find_all('a') ]\n",
    "        links_squads_0 = [l for l in links if '/squads/' in l]\n",
    "        links_squads = []\n",
    "        for i in links_squads_0:\n",
    "            links_squads.append(i.replace(f'/{stagione}' , ''))\n",
    "        # print(links_squads[0:2])\n",
    "        \n",
    "\n",
    "        final_links = get_final_links(links_squads, stagione)\n",
    "        # print(final_links + '/n')\n",
    "\n",
    "        team_urls = [f\"https://fbref.com/{l}\" for l in final_links]\n",
    "        # print(team_urls)\n",
    "        \n",
    "        print(f\"Waiting {seconds} seconds...\")\n",
    "        time.sleep(seconds)\n",
    "        # team_urls = [ f\"https://fbref.com/en/squads/d609edc0/{stagione}/Internazionale-Stats\" ] # per testing\n",
    "\n",
    "    #     ciclo for sulle squadre\n",
    "        for i in range(0 , len(team_urls) ): # len(team_urls)\n",
    "            # print(team_url)\n",
    "            # print(now.strftime('%Y/%m/%d/ %H:%M'))\n",
    "            print(team_urls[i])       \n",
    "\n",
    "            team_name = team_urls[i].split(\"/\")[-2] #.replace(\"Stats\", \"\").replace(\"-\", \" \")\n",
    "            print(team_urls[i])"
   ]
  },
  {
   "cell_type": "code",
   "execution_count": 7,
   "id": "1747ffc6-3d62-4e16-90ee-39286350dc45",
   "metadata": {},
   "outputs": [
    {
     "data": {
      "text/plain": [
       "['/en/squads/d609edc0/Internazionale-Stats',\n",
       " '/en/squads/dc56fe14/Milan-Stats',\n",
       " '/en/squads/e0652b02/Juventus-Stats',\n",
       " '/en/squads/922493f3/Atalanta-Stats',\n",
       " '/en/squads/1d8099f8/Bologna-Stats',\n",
       " '/en/squads/cf74a709/Roma-Stats',\n",
       " '/en/squads/7213da33/Lazio-Stats',\n",
       " '/en/squads/421387cf/Fiorentina-Stats',\n",
       " '/en/squads/105360fe/Torino-Stats',\n",
       " '/en/squads/d48ad4ff/Napoli-Stats',\n",
       " '/en/squads/658bf2de/Genoa-Stats',\n",
       " '/en/squads/21680aa4/Monza-Stats',\n",
       " '/en/squads/0e72edf2/Hellas-Verona-Stats',\n",
       " '/en/squads/ffcbe334/Lecce-Stats',\n",
       " '/en/squads/04eea015/Udinese-Stats',\n",
       " '/en/squads/c4260e09/Cagliari-Stats',\n",
       " '/en/squads/a3d88bd8/Empoli-Stats',\n",
       " '/en/squads/6a7ad59d/Frosinone-Stats',\n",
       " '/en/squads/e2befd26/Sassuolo-Stats',\n",
       " '/en/squads/c5577084/Salernitana-Stats']"
      ]
     },
     "execution_count": 7,
     "metadata": {},
     "output_type": "execute_result"
    }
   ],
   "source": [
    "mylist = [] \n",
    "for i in links_squads:\n",
    "    # print(i.replace(f'/{stagione}' , ''))\n",
    "    mylist.append(i.replace(f'/{stagione}' , ''))\n",
    "    # print(i)\n",
    "mylist"
   ]
  },
  {
   "cell_type": "code",
   "execution_count": 4,
   "id": "cb58c35f-b307-49e6-b812-6d577782ef7f",
   "metadata": {},
   "outputs": [
    {
     "data": {
      "text/plain": [
       "['/en/squads/d609edc0/2023-2024/Internazionale-Stats',\n",
       " '/en/squads/dc56fe14/2023-2024/Milan-Stats',\n",
       " '/en/squads/e0652b02/2023-2024/Juventus-Stats',\n",
       " '/en/squads/922493f3/2023-2024/Atalanta-Stats',\n",
       " '/en/squads/1d8099f8/2023-2024/Bologna-Stats',\n",
       " '/en/squads/cf74a709/Roma-Stats',\n",
       " '/en/squads/7213da33/Lazio-Stats',\n",
       " '/en/squads/421387cf/Fiorentina-Stats',\n",
       " '/en/squads/105360fe/Torino-Stats',\n",
       " '/en/squads/d48ad4ff/Napoli-Stats',\n",
       " '/en/squads/658bf2de/Genoa-Stats',\n",
       " '/en/squads/21680aa4/Monza-Stats',\n",
       " '/en/squads/0e72edf2/Hellas-Verona-Stats',\n",
       " '/en/squads/ffcbe334/Lecce-Stats',\n",
       " '/en/squads/04eea015/Udinese-Stats',\n",
       " '/en/squads/c4260e09/Cagliari-Stats',\n",
       " '/en/squads/a3d88bd8/Empoli-Stats',\n",
       " '/en/squads/6a7ad59d/Frosinone-Stats',\n",
       " '/en/squads/e2befd26/Sassuolo-Stats',\n",
       " '/en/squads/c5577084/Salernitana-Stats']"
      ]
     },
     "execution_count": 4,
     "metadata": {},
     "output_type": "execute_result"
    }
   ],
   "source": [
    "links_squads"
   ]
  },
  {
   "cell_type": "code",
   "execution_count": 13,
   "id": "2744440d-9506-44ea-8d09-19fa2c4df81f",
   "metadata": {},
   "outputs": [
    {
     "data": {
      "text/plain": [
       "[['', 'en', 'squads', 'cf74a709', 'Roma-Stats'],\n",
       " ['', 'en', 'squads', '7213da33', 'Lazio-Stats'],\n",
       " ['', 'en', 'squads', '421387cf', 'Fiorentina-Stats'],\n",
       " ['', 'en', 'squads', '105360fe', 'Torino-Stats'],\n",
       " ['', 'en', 'squads', 'd48ad4ff', 'Napoli-Stats'],\n",
       " ['', 'en', 'squads', '658bf2de', 'Genoa-Stats'],\n",
       " ['', 'en', 'squads', '21680aa4', 'Monza-Stats'],\n",
       " ['', 'en', 'squads', '0e72edf2', 'Hellas-Verona-Stats'],\n",
       " ['', 'en', 'squads', 'ffcbe334', 'Lecce-Stats'],\n",
       " ['', 'en', 'squads', '04eea015', 'Udinese-Stats'],\n",
       " ['', 'en', 'squads', 'c4260e09', 'Cagliari-Stats'],\n",
       " ['', 'en', 'squads', 'a3d88bd8', 'Empoli-Stats'],\n",
       " ['', 'en', 'squads', '6a7ad59d', 'Frosinone-Stats'],\n",
       " ['', 'en', 'squads', 'e2befd26', 'Sassuolo-Stats'],\n",
       " ['', 'en', 'squads', 'c5577084', 'Salernitana-Stats']]"
      ]
     },
     "execution_count": 13,
     "metadata": {},
     "output_type": "execute_result"
    }
   ],
   "source": [
    "parts"
   ]
  },
  {
   "cell_type": "code",
   "execution_count": null,
   "id": "b75c5d94-c869-4ed0-90b7-ccf83deed907",
   "metadata": {},
   "outputs": [],
   "source": []
  },
  {
   "cell_type": "code",
   "execution_count": null,
   "id": "93fbc45b-917b-45a7-8062-100ba59f927d",
   "metadata": {},
   "outputs": [],
   "source": []
  }
 ],
 "metadata": {
  "kernelspec": {
   "display_name": "Python 3 (ipykernel)",
   "language": "python",
   "name": "python3"
  },
  "language_info": {
   "codemirror_mode": {
    "name": "ipython",
    "version": 3
   },
   "file_extension": ".py",
   "mimetype": "text/x-python",
   "name": "python",
   "nbconvert_exporter": "python",
   "pygments_lexer": "ipython3",
   "version": "3.10.4"
  }
 },
 "nbformat": 4,
 "nbformat_minor": 5
}
