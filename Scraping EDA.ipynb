{
 "cells": [
  {
   "cell_type": "code",
   "execution_count": 2,
   "id": "c6bfd871-93e9-4146-bb46-97b54a7190a2",
   "metadata": {},
   "outputs": [
    {
     "name": "stdout",
     "output_type": "stream",
     "text": [
      "07/10/2023 10:06:12\n"
     ]
    }
   ],
   "source": [
    "import requests\n",
    "from bs4 import BeautifulSoup\n",
    "import pandas as pd, numpy as np\n",
    "import html5lib\n",
    "import time\n",
    "import pickle\n",
    "pd.set_option(\"display.max_columns\", None)\n",
    "pd.set_option(\"display.max_rows\", None)\n",
    "pd.set_option(\"display.precision\", 2)\n",
    "# pd.set_option(\"display.freeze_panes\", 1)\n",
    "from datetime import datetime\n",
    "now = datetime.now()\n",
    "print(now.strftime('%d/%m/%Y %H:%M:%S'))\n",
    "import utilities\n",
    "from utilities import convert_season \n",
    "from utilities import get_final_links\n"
   ]
  },
  {
   "cell_type": "code",
   "execution_count": 26,
   "id": "55a33e80-5e08-4d2f-ae7a-e46b83f23eaa",
   "metadata": {},
   "outputs": [],
   "source": [
    "season = [ '2023-2024' , '2022-2023' ]\n",
    "# campionato = [ '11/Serie-A-Stats'  ] \n",
    "\n",
    "# standings_url = f\"https://fbref.com/en/comps/{campionato}\"\n",
    "# data = requests.get(standings_url )\n",
    "# data"
   ]
  },
  {
   "cell_type": "code",
   "execution_count": 28,
   "id": "90347bc0-d68b-47d4-828e-b93da6b721c4",
   "metadata": {},
   "outputs": [
    {
     "name": "stdout",
     "output_type": "stream",
     "text": [
      "2324\n",
      "2223\n"
     ]
    }
   ],
   "source": [
    "def estrai_ultime_due_cifre(stringa):\n",
    "    \"\"\"\n",
    "  Estrae le ultime due cifre di una stringa.\n",
    "\n",
    "  Args:\n",
    "    stringa: la stringa da cui estrarre le ultime due cifre.\n",
    "\n",
    "  Returns:\n",
    "    Una stringa con le ultime due cifre della stringa originale.\n",
    "    \"\"\"\n",
    "    anno_1 = stringa.split(\"-\")[0][-2:]\n",
    "    anno_2 = stringa.split(\"-\")[1][-2:]\n",
    "    return anno_1 + anno_2\n",
    "    \n",
    "for i in season:\n",
    "    season_suffix = estrai_ultime_due_cifre(i)\n",
    "    print(season_suffix)"
   ]
  },
  {
   "cell_type": "code",
   "execution_count": 10,
   "id": "72139ecc-b54e-4383-a43d-4a204cb80fe0",
   "metadata": {},
   "outputs": [
    {
     "data": {
      "text/html": [
       "<div>\n",
       "<style scoped>\n",
       "    .dataframe tbody tr th:only-of-type {\n",
       "        vertical-align: middle;\n",
       "    }\n",
       "\n",
       "    .dataframe tbody tr th {\n",
       "        vertical-align: top;\n",
       "    }\n",
       "\n",
       "    .dataframe thead th {\n",
       "        text-align: right;\n",
       "    }\n",
       "</style>\n",
       "<table border=\"1\" class=\"dataframe\">\n",
       "  <thead>\n",
       "    <tr style=\"text-align: right;\">\n",
       "      <th></th>\n",
       "      <th>season</th>\n",
       "    </tr>\n",
       "  </thead>\n",
       "  <tbody>\n",
       "    <tr>\n",
       "      <th>1</th>\n",
       "      <td>2023-2024</td>\n",
       "    </tr>\n",
       "  </tbody>\n",
       "</table>\n",
       "</div>"
      ],
      "text/plain": [
       "      season\n",
       "1  2023-2024"
      ]
     },
     "execution_count": 10,
     "metadata": {},
     "output_type": "execute_result"
    }
   ],
   "source": [
    "df23_24"
   ]
  }
 ],
 "metadata": {
  "kernelspec": {
   "display_name": "Python 3 (ipykernel)",
   "language": "python",
   "name": "python3"
  },
  "language_info": {
   "codemirror_mode": {
    "name": "ipython",
    "version": 3
   },
   "file_extension": ".py",
   "mimetype": "text/x-python",
   "name": "python",
   "nbconvert_exporter": "python",
   "pygments_lexer": "ipython3",
   "version": "3.10.4"
  }
 },
 "nbformat": 4,
 "nbformat_minor": 5
}
