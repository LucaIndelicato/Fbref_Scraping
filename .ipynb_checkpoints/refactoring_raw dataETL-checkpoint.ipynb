{
 "cells": [
  {
   "cell_type": "code",
   "execution_count": 5,
   "id": "5ba30264-e04a-4c53-b15c-54b6c02a34c4",
   "metadata": {},
   "outputs": [],
   "source": [
    "import requests\n",
    "import utilities as u\n",
    "from utilities import import_raw_data\n",
    "import pandas as pd\n",
    "import os"
   ]
  },
  {
   "cell_type": "code",
   "execution_count": 6,
   "id": "2003fe80-ea54-4174-86ed-c91c6833f415",
   "metadata": {},
   "outputs": [
    {
     "data": {
      "text/plain": [
       "'H:\\\\Il mio Drive\\\\serie a\\\\python\\\\football-data.com'"
      ]
     },
     "execution_count": 6,
     "metadata": {},
     "output_type": "execute_result"
    }
   ],
   "source": [
    "os.getcwd()"
   ]
  },
  {
   "cell_type": "code",
   "execution_count": 7,
   "id": "8c040543-6481-451b-986f-e5562618da73",
   "metadata": {},
   "outputs": [
    {
     "ename": "TypeError",
     "evalue": "import_raw_data() missing 1 required positional argument: 'raw_data_folder'",
     "output_type": "error",
     "traceback": [
      "\u001b[1;31m---------------------------------------------------------------------------\u001b[0m",
      "\u001b[1;31mTypeError\u001b[0m                                 Traceback (most recent call last)",
      "Input \u001b[1;32mIn [7]\u001b[0m, in \u001b[0;36m<cell line: 6>\u001b[1;34m()\u001b[0m\n\u001b[0;32m      4\u001b[0m league \u001b[38;5;241m=\u001b[39m [\u001b[38;5;124m'\u001b[39m\u001b[38;5;124mI1\u001b[39m\u001b[38;5;124m'\u001b[39m , \u001b[38;5;124m'\u001b[39m\u001b[38;5;124mE0\u001b[39m\u001b[38;5;124m'\u001b[39m]\n\u001b[0;32m      6\u001b[0m \u001b[38;5;28;01mfor\u001b[39;00m i \u001b[38;5;129;01min\u001b[39;00m league:\n\u001b[1;32m----> 7\u001b[0m     \u001b[43mu\u001b[49m\u001b[38;5;241;43m.\u001b[39;49m\u001b[43mimport_raw_data\u001b[49m\u001b[43m(\u001b[49m\u001b[43mseason\u001b[49m\u001b[43m,\u001b[49m\u001b[43m \u001b[49m\u001b[43mi\u001b[49m\u001b[43m \u001b[49m\u001b[43m)\u001b[49m\n",
      "\u001b[1;31mTypeError\u001b[0m: import_raw_data() missing 1 required positional argument: 'raw_data_folder'"
     ]
    }
   ],
   "source": [
    "# import requests\n",
    "\n",
    "season = '2223'\n",
    "league = ['I1' , 'E0']\n",
    "\n",
    "for i in league:\n",
    "    u.import_raw_data(season, i )"
   ]
  },
  {
   "cell_type": "code",
   "execution_count": 35,
   "id": "ee412380-c92d-43c4-ba94-8174b5b6aa50",
   "metadata": {},
   "outputs": [],
   "source": [
    "import requests\n",
    "\n",
    "def import_raw_data( season, league):\n",
    "    \n",
    "    # Il link al file CSV\n",
    "    url = f\"https://www.football-data.co.uk/mmz4281/{season}/{league}.csv\"\n",
    "    print(url)\n",
    "    response = requests.get(url)\n",
    "    print(response.status_code)\n",
    "    with open(f\"{league}.csv\", \"wb\") as f:\n",
    "        f.write(response.content)"
   ]
  },
  {
   "cell_type": "code",
   "execution_count": 36,
   "id": "154040e2-808c-47db-a6c4-660a79b30849",
   "metadata": {},
   "outputs": [
    {
     "name": "stdout",
     "output_type": "stream",
     "text": [
      "https://www.football-data.co.uk/mmz4281/2223/I1.csv\n",
      "200\n",
      "https://www.football-data.co.uk/mmz4281/2223/E0.csv\n",
      "200\n"
     ]
    }
   ],
   "source": [
    "season = '2223'\n",
    "league = ['I1' , 'E0']\n",
    "\n",
    "for i in league:\n",
    "    import_raw_data(season, i, )"
   ]
  },
  {
   "cell_type": "code",
   "execution_count": null,
   "id": "4aced7ee-09c3-4c7a-8078-0fc74a618836",
   "metadata": {},
   "outputs": [],
   "source": []
  }
 ],
 "metadata": {
  "kernelspec": {
   "display_name": "Python 3 (ipykernel)",
   "language": "python",
   "name": "python3"
  },
  "language_info": {
   "codemirror_mode": {
    "name": "ipython",
    "version": 3
   },
   "file_extension": ".py",
   "mimetype": "text/x-python",
   "name": "python",
   "nbconvert_exporter": "python",
   "pygments_lexer": "ipython3",
   "version": "3.10.4"
  }
 },
 "nbformat": 4,
 "nbformat_minor": 5
}
